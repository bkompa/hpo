{
 "cells": [
  {
   "cell_type": "code",
   "execution_count": 1,
   "metadata": {
    "collapsed": false
   },
   "outputs": [
    {
     "name": "stdout",
     "output_type": "stream",
     "text": [
      "Parsing files...\n",
      "Creating DataFrame...\n",
      "Working with 157473 articles and 1307 hpo terms\n"
     ]
    }
   ],
   "source": [
    "'''In this notebook we will classify the prescence/abscence of HPO terms for 183,000 PubMed Abstracts using Facebook's\n",
    "FastText algorithm. We need the following files:\n",
    "\n",
    "articles_hpo.txt : a map of articles to the appropriate HPO terms \n",
    "pmid_abstract.txt : a map of pmids and abstracts \n",
    "\n",
    "NOTE: pmid_abstract.txt includes articles that do not have an HPO term, so we \n",
    "will use the list of articles in articles_hpo.txt \n",
    "\n",
    "\n",
    "Using this API: https://pypi.python.org/pypi/fasttext\n",
    "'''\n",
    "\n",
    "import fasttext as ft \n",
    "\n",
    "import numpy as np \n",
    "import re \n",
    "import os \n",
    "import pandas as pd \n",
    "\n",
    "from sklearn.cross_validation import train_test_split\n",
    "from sklearn.metrics import roc_auc_score\n",
    "\n",
    "#if the text files are somewhere else, change this \n",
    "data_path = os.getcwd()+'/data/'\n",
    "\n",
    "articles_hpo_file = open(data_path+'articles_hpo.txt')\n",
    "pmid_abstracts_file = open(data_path+'pmid_abstract.txt')\n",
    "\n",
    "#make an array of pmids and set of HPO terms \n",
    "print('Parsing files...')\n",
    "articles_hpo = {}\n",
    "pmids = set() \n",
    "hpo_terms = set() \n",
    "for line in articles_hpo_file:\n",
    "    parse = line.rstrip().split('\\t')\n",
    "    parse[0] = parse[0].replace('\"','')\n",
    "    articles_hpo[int(parse[0])] = '\\t'.join(parse[1:])\n",
    "    pmids.add(int(parse[0]))\n",
    "    hpo_terms |= set(parse[1:])\n",
    "\n",
    "#make a dictionary of abstracts \n",
    "pmid_abstracts = {}\n",
    "for line in pmid_abstracts_file:\n",
    "    parse = line.rstrip().split('\\t')\n",
    "    pmid_abstracts[int(parse[0])] = pmid_abstracts.get(parse[0],'')+'\\t'.join(parse[1:])\n",
    "    \n",
    "print('Creating DataFrame...')\n",
    "#make a matrix of articles and hpo terms using Pandas DataFrame\n",
    "df = pd.DataFrame(index=list(pmids), columns = list(hpo_terms))\n",
    "df = df.fillna(0)\n",
    "#fill in our dataframe \n",
    "for pmid in pmids: \n",
    "    for hpo_term in articles_hpo[pmid].split('\\t'):\n",
    "        df.loc[pmid,hpo_term] = 1\n",
    "    \n",
    "#make sure we are only dealing with articles that have abstracts and HPO terms \n",
    "pmids = pmids.intersection(set(pmid_abstracts.keys()))\n",
    "print('Working with {} articles and {} hpo terms'.format(len(pmids),len(hpo_terms)))"
   ]
  },
  {
   "cell_type": "code",
   "execution_count": 2,
   "metadata": {
    "collapsed": false
   },
   "outputs": [],
   "source": [
    "#Function to clean and add an abstract to our list of clean abstracts as a single line \n",
    "def abstract_to_line(abstract, hpo_terms, pmid, THRESHOLD=100):\n",
    "    #remove non words \n",
    "    clean_abstract = re.sub(\"[^a-zA-Z0-9]\",\" \", abstract)\n",
    "    #create the label string\n",
    "    hpo_terms = hpo_terms.split('\\t')\n",
    "    #check whether we have enough example documents for HPO terms \n",
    "    #df is the dataframe of HPO terms and documents \n",
    "    for hpo in hpo_terms: \n",
    "        if np.sum(df.loc[:,hpo].values)<THRESHOLD:\n",
    "            hpo_terms.remove(hpo)\n",
    "    #if there are no HPO terms left, return nothing\n",
    "    if len(hpo_terms)==0:\n",
    "        return\n",
    "    label_string = '__label__'+ ' , __label__'.join(hpo_terms)\n",
    "    return(label_string+' , {} , '.format(pmid)+clean_abstract.lower().rstrip()+'\\n')\n",
    "\n",
    "#count the number of unique labels in a text file\n",
    "def count_hpo_terms(file_path,label_prefix='__label__'):\n",
    "    hpo_terms = set()\n",
    "    for line in open(file_path):\n",
    "        for word in line.split():\n",
    "            if word.startswith(label_prefix):\n",
    "                hpo_terms.add(word.split(label_prefix)[-1])\n",
    "    return len(hpo_terms),hpo_terms\n"
   ]
  },
  {
   "cell_type": "code",
   "execution_count": 12,
   "metadata": {
    "collapsed": false
   },
   "outputs": [
    {
     "name": "stdout",
     "output_type": "stream",
     "text": [
      "Generating train file...\n",
      "Generating test file...\n"
     ]
    }
   ],
   "source": [
    "#array that we will shuffle for test/train splits \n",
    "indices = np.arange(len(pmids))\n",
    "\n",
    "#generate train/test split \n",
    "train_index, test_index = train_test_split(indices, test_size=.2)\n",
    "pmids = np.array(list(pmids))\n",
    "train_pmids = pmids[train_index]\n",
    "test_pmids = pmids[test_index]\n",
    "\n",
    "#delete the train/test file if it exists \n",
    "try: \n",
    "    os.remove(data_path+'train.txt')\n",
    "    print('Generating train file...')\n",
    "except:\n",
    "    print('Generating train file...')\n",
    "try: \n",
    "    os.remove(data_path+'test.txt')\n",
    "    print('Generating test file...')\n",
    "except:\n",
    "    print('Generating test file...')\n",
    "\n",
    "train_file = open(data_path+'train.txt','a')\n",
    "test_file = open(data_path+'test.txt','a')\n",
    "\n",
    "\n",
    "#populate the test/train files\n",
    "THRESHOLD = 5000\n",
    "for pmid in train_pmids:\n",
    "    line = abstract_to_line(pmid_abstracts[pmid],articles_hpo[pmid],pmid, THRESHOLD)\n",
    "    if line is not None:\n",
    "        train_file.write(line)\n",
    "\n",
    "for pmid in test_pmids:\n",
    "    line = abstract_to_line(pmid_abstracts[pmid],articles_hpo[pmid],pmid, THRESHOLD)\n",
    "    if line is not None:\n",
    "        test_file.write(line)\n",
    "\n",
    "test_file.close()\n",
    "train_file.close()\n",
    "\n"
   ]
  },
  {
   "cell_type": "code",
   "execution_count": 13,
   "metadata": {
    "collapsed": false
   },
   "outputs": [],
   "source": [
    "#train the classifier \n",
    "classifier = ft.supervised(data_path+'train.txt', 'model', label_prefix='__label__')"
   ]
  },
  {
   "cell_type": "code",
   "execution_count": 14,
   "metadata": {
    "collapsed": false
   },
   "outputs": [
    {
     "name": "stdout",
     "output_type": "stream",
     "text": [
      "P@1: 0.4849689261453967\n",
      "R@1: 0.44194929206453737\n",
      "Number of abstracts: 13838\n",
      "Number of HPO terms: 795\n"
     ]
    }
   ],
   "source": [
    "#test the classifier \n",
    "result = classifier.test(data_path+'test.txt')\n",
    "print('P@1:', result.precision)\n",
    "print('R@1:', result.recall)\n",
    "print('Number of abstracts:', result.nexamples)\n",
    "print('Number of HPO terms:', count_hpo_terms(data_path+'test.txt')[0])"
   ]
  },
  {
   "cell_type": "code",
   "execution_count": null,
   "metadata": {
    "collapsed": true
   },
   "outputs": [],
   "source": []
  }
 ],
 "metadata": {
  "kernelspec": {
   "display_name": "Python 3",
   "language": "python",
   "name": "python3"
  },
  "language_info": {
   "codemirror_mode": {
    "name": "ipython",
    "version": 3
   },
   "file_extension": ".py",
   "mimetype": "text/x-python",
   "name": "python",
   "nbconvert_exporter": "python",
   "pygments_lexer": "ipython3",
   "version": "3.5.1"
  }
 },
 "nbformat": 4,
 "nbformat_minor": 0
}
